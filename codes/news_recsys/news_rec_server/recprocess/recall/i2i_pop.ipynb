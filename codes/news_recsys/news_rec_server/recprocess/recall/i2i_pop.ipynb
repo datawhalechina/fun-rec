{
 "cells": [
  {
   "cell_type": "code",
   "execution_count": 1,
   "id": "b06bec9d",
   "metadata": {},
   "outputs": [],
   "source": [
    "import gc\n",
    "import os\n",
    "\n",
    "import numpy as np\n",
    "import pandas as pd\n",
    "\n",
    "from tqdm.auto import tqdm\n",
    "from collections import Counter\n",
    "from sklearn.utils import shuffle\n",
    "\n",
    "from metric import PrintMetric\n",
    "\n",
    "import warnings\n",
    "warnings.filterwarnings(\"ignore\")\n",
    "\n",
    "raw_data_path = 'D:/news-rec/dataset/raw_data'\n",
    "new_data_path = 'D:/news-rec/dataset/recall_data'\n",
    "\n",
    "os.makedirs(new_data_path, exist_ok=True)"
   ]
  },
  {
   "cell_type": "code",
   "execution_count": 2,
   "id": "4479018f",
   "metadata": {},
   "outputs": [],
   "source": [
    "user_info = pd.read_csv(raw_data_path + '/user_info_5w.csv', sep='\\t', index_col=0)\n",
    "user_info.columns = [\"user_id\", \"设备名称\", \"操作系统\", \"所在省\", \"所在市\", \"年龄\",\"性别\"]\n",
    "\n",
    "doc_info = pd.read_table(raw_data_path + '/doc_info.txt', sep='\\t')\n",
    "doc_info.columns = [\"item_id\", \"标题\", \"发文时间\", \"图片数量\",  \"一级分类\", \"二级分类\", \"关键词\"]\n",
    "\n",
    "all_data = pd.read_csv(raw_data_path + '/train_data_5w.csv', sep='\\t', index_col=0)\n",
    "all_data.columns = [\"user_id\", \"item_id\", \"展现时间\", \"网路环境\", \"刷新次数\", \"展现位置\", \"是否点击\", \"消费时长（秒）\"]"
   ]
  },
  {
   "cell_type": "markdown",
   "source": [
    "# 预处理数据在时间上的特征"
   ],
   "metadata": {
    "collapsed": false
   }
  },
  {
   "cell_type": "code",
   "execution_count": 3,
   "outputs": [],
   "source": [
    "all_data['展现时间'] = pd.to_datetime(all_data['展现时间'], utc=True, unit='ms').dt.tz_convert('Asia/Shanghai')\n",
    "\n",
    "# 合并文档发文时间\n",
    "all_data = all_data.merge(doc_info[['item_id', '发文时间']], how='left', on='item_id')\n",
    "\n",
    "# 统计各文档最早展现时间\n",
    "temp_df = all_data.groupby('item_id', as_index=False)['展现时间'].agg({'最早展现时间': min})\n",
    "all_data = all_data.merge(temp_df, how='left', on='item_id')"
   ],
   "metadata": {
    "collapsed": false,
    "pycharm": {
     "name": "#%%\n"
    }
   }
  },
  {
   "cell_type": "code",
   "execution_count": 4,
   "outputs": [],
   "source": [
    "# 填充发文时间为空的文档\n",
    "condition_row = (all_data['发文时间'].isnull()) | (all_data['发文时间'] == 'Android')\n",
    "all_data.loc[condition_row, '发文时间'] = all_data.loc[condition_row, '最早展现时间']\n",
    "all_data.loc[~condition_row, '发文时间'] = pd.to_datetime(\n",
    "    all_data.loc[~condition_row, '发文时间'], utc=True, unit='ms').dt.tz_convert('Asia/Shanghai')\n",
    "\n",
    "# 填充发文时间晚于最早展现时间的文档\n",
    "condition_row = (all_data['发文时间'] > all_data['最早展现时间'])\n",
    "all_data.loc[condition_row, '发文时间'] = all_data.loc[condition_row, '最早展现时间']"
   ],
   "metadata": {
    "collapsed": false,
    "pycharm": {
     "name": "#%%\n"
    }
   }
  },
  {
   "cell_type": "code",
   "execution_count": 5,
   "outputs": [],
   "source": [
    "# 统计日期信息\n",
    "all_data['发文日期'] = pd.to_datetime(all_data['发文时间']).dt.date\n",
    "all_data['展现日期'] = all_data['展现时间'].dt.day"
   ],
   "metadata": {
    "collapsed": false,
    "pycharm": {
     "name": "#%%\n"
    }
   }
  },
  {
   "cell_type": "markdown",
   "source": [
    "# 划分训练集和测试集"
   ],
   "metadata": {
    "collapsed": false
   }
  },
  {
   "cell_type": "code",
   "execution_count": 6,
   "id": "73c9843e",
   "metadata": {},
   "outputs": [
    {
     "data": {
      "text/plain": "73"
     },
     "execution_count": 6,
     "metadata": {},
     "output_type": "execute_result"
    }
   ],
   "source": [
    "mode = 'test'\n",
    "\n",
    "if mode == 'debug':\n",
    "    all_data = shuffle(all_data)\n",
    "    all_data.reset_index(drop=True)\n",
    "\n",
    "    train_data = all_data[(all_data['展现日期'] >= 5) & (all_data['展现日期'] < 6)]\n",
    "    test_data = all_data.loc[all_data['展现日期'] == 6, :]\n",
    "else:\n",
    "    train_data = all_data[(all_data['展现日期'] >= 1) & (all_data['展现日期'] < 6)]\n",
    "    test_data = all_data.loc[all_data['展现日期'] == 6, :]\n",
    "\n",
    "del all_data, doc_info, user_info\n",
    "gc.collect()"
   ]
  },
  {
   "cell_type": "code",
   "execution_count": 7,
   "outputs": [],
   "source": [
    "# 统计了各样本从发文到现在（最大展现时间）的时间间隔\n",
    "max_time = train_data['展现时间'].max()\n",
    "\n",
    "train_data['时间差'] = max_time - train_data['发文时间']\n",
    "train_data['小时差'] = train_data['时间差'].dt.days * 24 + (train_data['时间差'].dt.seconds + 1) / 3600"
   ],
   "metadata": {
    "collapsed": false,
    "pycharm": {
     "name": "#%%\n"
    }
   }
  },
  {
   "cell_type": "code",
   "execution_count": 8,
   "outputs": [],
   "source": [
    "# 由于新闻具有时效性，根据时间差划分不同的训练集\n",
    "train1 = train_data.loc[(train_data['时间差'] > pd.to_timedelta('0 hours')) & (train_data['时间差'] <= pd.to_timedelta('1 hours'))]\n",
    "train2 = train_data.loc[(train_data['时间差'] > pd.to_timedelta('1 hours')) & (train_data['时间差'] <= pd.to_timedelta('3 hours'))]\n",
    "train3 = train_data.loc[(train_data['时间差'] > pd.to_timedelta('3 hours')) & (train_data['时间差'] <= pd.to_timedelta('6 hours'))]\n",
    "train4 = train_data.loc[(train_data['时间差'] > pd.to_timedelta('6 hours')) & (train_data['时间差'] <= pd.to_timedelta('12 hours'))]\n",
    "train5 = train_data.loc[(train_data['时间差'] > pd.to_timedelta('12 hours')) & (train_data['时间差'] <= pd.to_timedelta('1 days'))]\n",
    "train6 = train_data.loc[(train_data['时间差'] > pd.to_timedelta('1 days')) & (train_data['时间差'] <= pd.to_timedelta('2 days'))]"
   ],
   "metadata": {
    "collapsed": false,
    "pycharm": {
     "name": "#%%\n"
    }
   }
  },
  {
   "cell_type": "markdown",
   "source": [
    "# 计算新闻的热度\n",
    "具体过程如下：\n",
    "(1) 根据牛顿冷却公式，计算新闻随时间变化的新鲜度;\n",
    "$$\\boldsymbol{T}(\\boldsymbol{t})=\\boldsymbol{H}+\\left(\\boldsymbol{T}_{\\mathbf{0}}-\\boldsymbol{H}\\right) \\boldsymbol{e}^{-\\boldsymbol{\\alpha}\\left(\\boldsymbol{t}-\\boldsymbol{t}_{\\mathbf{0}}\\right)}$$\n",
    "\n",
    "(2) 根据用户是否点击新闻以及新闻的总交互数，计算文档的流行度；"
   ],
   "metadata": {
    "collapsed": false
   }
  },
  {
   "cell_type": "code",
   "execution_count": 9,
   "outputs": [],
   "source": [
    "train = pd.concat([train1, train2, train3, train4, train5, train6], axis=0)\n",
    "\n",
    "# 初始值为10 => 24小时后，流行度大约为1 => 最低值为0.05\n",
    "delta_t = train['小时差']\n",
    "train['pop_factor'] = 0.01 + 9.99 * np.exp(-delta_t / 10)\n",
    "\n",
    "# 如果用户未点击新闻，施加惩罚\n",
    "train['pop_factor'] = train[['pop_factor', '是否点击']].apply(lambda x: x['pop_factor'] if x['是否点击'] else 0.01 * x['pop_factor'], axis=1)\n",
    "\n",
    "# 从新闻的曝光次数上，统计新闻的热点信息\n",
    "popular_items_group = train.groupby(['item_id'])['pop_factor'].sum()\n",
    "\n",
    "# 根据新闻的流行度，构建热门新闻列表\n",
    "popular_factor, popular_items = zip(*sorted(zip(popular_items_group, popular_items_group.keys()))[::-1])\n",
    "popular_items = list(popular_items)"
   ],
   "metadata": {
    "collapsed": false,
    "pycharm": {
     "name": "#%%\n"
    }
   }
  },
  {
   "cell_type": "code",
   "execution_count": 10,
   "outputs": [],
   "source": [
    "# 构建用户近期点击的新闻集合，用户再次推送\n",
    "positive_items_per_user1 = train1.groupby(['user_id'])['item_id'].apply(list)\n",
    "positive_items_per_user2 = train2.groupby(['user_id'])['item_id'].apply(list)\n",
    "positive_items_per_user3 = train3.groupby(['user_id'])['item_id'].apply(list)\n",
    "positive_items_per_user4 = train4.groupby(['user_id'])['item_id'].apply(list)"
   ],
   "metadata": {
    "collapsed": false,
    "pycharm": {
     "name": "#%%\n"
    }
   }
  },
  {
   "cell_type": "code",
   "execution_count": 11,
   "outputs": [],
   "source": [
    "topk = 100\n",
    "\n",
    "test_users = test_data['user_id'].unique()"
   ],
   "metadata": {
    "collapsed": false,
    "pycharm": {
     "name": "#%%\n"
    }
   }
  },
  {
   "cell_type": "markdown",
   "source": [
    "## 策略1： 将用户观看过的新闻再次推送，不足数量的部分直接使用热门推荐（不具备个性化）"
   ],
   "metadata": {
    "collapsed": false
   }
  },
  {
   "cell_type": "code",
   "execution_count": 12,
   "outputs": [
    {
     "data": {
      "text/plain": "  0%|          | 0/15676 [00:00<?, ?it/s]",
      "application/vnd.jupyter.widget-view+json": {
       "version_major": 2,
       "version_minor": 0,
       "model_id": "170f315ccde642f4929845610e9bff47"
      }
     },
     "metadata": {},
     "output_type": "display_data"
    }
   ],
   "source": [
    "outputs = {}\n",
    "for user in tqdm(test_users):\n",
    "    user_output = []\n",
    "    # 将用户已经观看过部分的新闻，再次推送给用户\n",
    "    if user in positive_items_per_user1.keys():\n",
    "        most_common_items_of_user = {k: v for k, v in Counter(positive_items_per_user1[user]).most_common()}\n",
    "        user_output += list(most_common_items_of_user.keys())[:topk // 10]\n",
    "    if user in positive_items_per_user2.keys():\n",
    "        most_common_items_of_user = {k: v for k, v in Counter(positive_items_per_user2[user]).most_common()}\n",
    "        user_output += list(most_common_items_of_user.keys())[:topk // 20]\n",
    "    if user in positive_items_per_user3.keys():\n",
    "        most_common_items_of_user = {k: v for k, v in Counter(positive_items_per_user3[user]).most_common()}\n",
    "        user_output += list(most_common_items_of_user.keys())[:topk // 50]\n",
    "    if user in positive_items_per_user4.keys():\n",
    "        most_common_items_of_user = {k: v for k, v in Counter(positive_items_per_user4[user]).most_common()}\n",
    "        user_output += list(most_common_items_of_user.keys())[:topk // 100]\n",
    "\n",
    "    user_output = user_output[:topk]\n",
    "    # 剩余部分，使用热门新闻进行填充\n",
    "    user_output += list(popular_items[:topk - len(user_output)])\n",
    "\n",
    "    outputs[user] = user_output\n"
   ],
   "metadata": {
    "collapsed": false,
    "pycharm": {
     "name": "#%%\n"
    }
   }
  },
  {
   "cell_type": "code",
   "execution_count": 13,
   "outputs": [
    {
     "data": {
      "text/plain": "0it [00:00, ?it/s]",
      "application/vnd.jupyter.widget-view+json": {
       "version_major": 2,
       "version_minor": 0,
       "model_id": "0d63919d68754ba0b3f42622e66c70e3"
      }
     },
     "metadata": {},
     "output_type": "display_data"
    },
    {
     "name": "stdout",
     "output_type": "stream",
     "text": [
      "MAP@100:  0.01054536254950761\n",
      "Recall@100:  0.1231955551484294\n",
      "Precision@100:  0.02502743046695586\n",
      "F1@100:  0.03328827969962868\n"
     ]
    }
   ],
   "source": [
    "positive_items_test = test_data.groupby(['user_id'])['item_id'].apply(list)\n",
    "\n",
    "test_true = []\n",
    "for i, user in tqdm(enumerate(test_users)):\n",
    "    test_true.append(positive_items_test[user])\n",
    "\n",
    "test_pred = []\n",
    "for user, pred in outputs.items():\n",
    "    test_pred.append(pred)\n",
    "\n",
    "PrintMetric(test_true, test_pred, topk)"
   ],
   "metadata": {
    "collapsed": false,
    "pycharm": {
     "name": "#%%\n"
    }
   }
  },
  {
   "cell_type": "markdown",
   "source": [
    "## 策略2： 根据用户最近观看的新闻类别，推送相似类别的热点新闻\n",
    "待续..."
   ],
   "metadata": {
    "collapsed": false,
    "pycharm": {
     "name": "#%% md\n"
    }
   }
  }
 ],
 "metadata": {
  "kernelspec": {
   "display_name": "Python 3 (ipykernel)",
   "language": "python",
   "name": "python3"
  },
  "language_info": {
   "codemirror_mode": {
    "name": "ipython",
    "version": 3
   },
   "file_extension": ".py",
   "mimetype": "text/x-python",
   "name": "python",
   "nbconvert_exporter": "python",
   "pygments_lexer": "ipython3",
   "version": "3.8.12"
  }
 },
 "nbformat": 4,
 "nbformat_minor": 5
}